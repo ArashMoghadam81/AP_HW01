{
 "cells": [
  {
   "cell_type": "code",
   "execution_count": 1,
   "id": "6df7d022",
   "metadata": {},
   "outputs": [],
   "source": [
    "from abc import ABC, abstractmethod\n",
    "\n",
    "# class num1\n",
    "class Engine:\n",
    "    def __init__(self, Code_Number, Capacity, Number_of_cylinders, Horsepower, Mode= 'Normal_mode'):\n",
    "        self.Code_Number = Code_Number\n",
    "        self.Capacity = Capacity\n",
    "        self.Number_of_cylinders = Number_of_cylinders\n",
    "        self.Horsepower = Horsepower\n",
    "        self._Mode = Mode        \n",
    "    \n",
    "    def Eco_mode(self):\n",
    "        self._Mode = 'Eco_mode'\n",
    "        return f\"Mode Has Been Changed to {self.Mode} !\"\n",
    "\n",
    "    def Sport_mode(self):\n",
    "        self._Mode = 'Sport_mode'\n",
    "        return f\"Mode Has Been Changed to {self.Mode} !\"\n",
    "    \n",
    "    def Offroad_mode(self):\n",
    "        self._Mode = 'Off-road_mode'\n",
    "        return f\"Mode Has Been Changed to {self.Mode} !\"\n",
    "    \n",
    "    def Comfort_mode(self):\n",
    "        self._Mode = 'Cofort_mode'\n",
    "        return f\"Mode Has Been Changed to {self.Mode} !\"\n",
    "    \n",
    "    def Snow_mode(self):\n",
    "        self._Mode = 'Snow_mode'\n",
    "        return f\"Mode Has Been Changed to {self.Mode} !\"\n",
    "    \n",
    "    def Normal_mode(self):\n",
    "        self._Mode = 'Normal_mode'\n",
    "        return f\"Mode Has Been Changed to {self.Mode} !\"\n",
    "\n",
    "    def Type_by_cylinder(self):\n",
    "        return f\"This is a V{self.Number_of_cylinders} Car !\""
   ]
  },
  {
   "cell_type": "code",
   "execution_count": null,
   "id": "79291161",
   "metadata": {},
   "outputs": [],
   "source": []
  },
  {
   "cell_type": "code",
   "execution_count": null,
   "id": "4cedbe5a",
   "metadata": {},
   "outputs": [],
   "source": []
  },
  {
   "cell_type": "code",
   "execution_count": null,
   "id": "6b4ff2dc",
   "metadata": {},
   "outputs": [],
   "source": []
  },
  {
   "cell_type": "code",
   "execution_count": null,
   "id": "24ba0516",
   "metadata": {},
   "outputs": [],
   "source": []
  }
 ],
 "metadata": {
  "kernelspec": {
   "display_name": "Python 3 (ipykernel)",
   "language": "python",
   "name": "python3"
  },
  "language_info": {
   "codemirror_mode": {
    "name": "ipython",
    "version": 3
   },
   "file_extension": ".py",
   "mimetype": "text/x-python",
   "name": "python",
   "nbconvert_exporter": "python",
   "pygments_lexer": "ipython3",
   "version": "3.9.7"
  }
 },
 "nbformat": 4,
 "nbformat_minor": 5
}
